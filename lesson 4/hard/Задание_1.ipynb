{
 "cells": [
  {
   "cell_type": "code",
   "execution_count": 1,
   "metadata": {},
   "outputs": [],
   "source": [
    "# Задание-1:\n",
    "# Матрицы в питоне реализуются в виде вложенных списков:\n",
    "# Пример. Дано:\n",
    "# Выполнить поворот (транспонирование) матрицы\n",
    "# Пример. Результат:\n",
    "# matrix_rotate = [[1, 3, 0],\n",
    "#                  [0, 4, 4],\n",
    "#                  [8, 1, 2]]\n",
    "\n",
    "# Суть сложности hard: Решите задачу в одну строку"
   ]
  },
  {
   "cell_type": "code",
   "execution_count": 3,
   "metadata": {},
   "outputs": [
    {
     "name": "stdout",
     "output_type": "stream",
     "text": [
      "[[1, 3, 0], [0, 4, 4], [8, 1, 2]]\n"
     ]
    }
   ],
   "source": [
    "matrix = [[1, 0, 8],\n",
    "          [3, 4, 1],\n",
    "          [0, 4, 2]]\n",
    "print(list(map(list, zip(*matrix))))"
   ]
  },
  {
   "cell_type": "code",
   "execution_count": null,
   "metadata": {},
   "outputs": [],
   "source": []
  }
 ],
 "metadata": {
  "kernelspec": {
   "display_name": "Python 3",
   "language": "python",
   "name": "python3"
  },
  "language_info": {
   "codemirror_mode": {
    "name": "ipython",
    "version": 3
   },
   "file_extension": ".py",
   "mimetype": "text/x-python",
   "name": "python",
   "nbconvert_exporter": "python",
   "pygments_lexer": "ipython3",
   "version": "3.6.5"
  }
 },
 "nbformat": 4,
 "nbformat_minor": 2
}
