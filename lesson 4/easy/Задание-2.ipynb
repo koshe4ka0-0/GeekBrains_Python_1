{
 "cells": [
  {
   "cell_type": "code",
   "execution_count": 34,
   "metadata": {},
   "outputs": [],
   "source": [
    "# Задание-2:\n",
    "# Даны два списка фруктов.\n",
    "# Получить список фруктов, присутствующих в обоих исходных списках."
   ]
  },
  {
   "cell_type": "code",
   "execution_count": 42,
   "metadata": {},
   "outputs": [],
   "source": [
    "lst_1 = ['яблоко', 'арбуз', 'рябина', 'апельсин', 'маракуя']\n",
    "lst_2 = ['черешня', 'апельсин', 'маракуя', 'яблоко', 'ананас', 'малина', 'клубника', 'рябина']"
   ]
  },
  {
   "cell_type": "code",
   "execution_count": 43,
   "metadata": {},
   "outputs": [],
   "source": [
    "new_lst = [item for item in lst_1 for itm in lst_2 if item == itm]"
   ]
  },
  {
   "cell_type": "code",
   "execution_count": 44,
   "metadata": {},
   "outputs": [
    {
     "name": "stdout",
     "output_type": "stream",
     "text": [
      "['яблоко', 'рябина', 'апельсин', 'маракуя']\n"
     ]
    }
   ],
   "source": [
    "print(new_lst)"
   ]
  },
  {
   "cell_type": "code",
   "execution_count": 46,
   "metadata": {},
   "outputs": [
    {
     "name": "stdout",
     "output_type": "stream",
     "text": [
      "['яблоко', 'рябина', 'апельсин', 'маракуя']\n"
     ]
    }
   ],
   "source": [
    "# new_list = []\n",
    "\n",
    "# for itm in lst_1:\n",
    "#     for i in lst_2:\n",
    "#         if itm == i:\n",
    "#             new_list.append(i)\n",
    "# print(new_list)"
   ]
  },
  {
   "cell_type": "code",
   "execution_count": null,
   "metadata": {},
   "outputs": [],
   "source": []
  }
 ],
 "metadata": {
  "kernelspec": {
   "display_name": "Python 3",
   "language": "python",
   "name": "python3"
  },
  "language_info": {
   "codemirror_mode": {
    "name": "ipython",
    "version": 3
   },
   "file_extension": ".py",
   "mimetype": "text/x-python",
   "name": "python",
   "nbconvert_exporter": "python",
   "pygments_lexer": "ipython3",
   "version": "3.6.5"
  }
 },
 "nbformat": 4,
 "nbformat_minor": 2
}
