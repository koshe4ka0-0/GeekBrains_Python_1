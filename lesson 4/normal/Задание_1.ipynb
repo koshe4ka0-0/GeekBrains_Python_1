{
 "cells": [
  {
   "cell_type": "code",
   "execution_count": 1,
   "metadata": {},
   "outputs": [],
   "source": [
    "# Задание-1:\n",
    "# Вывести символы в нижнем регистре, которые находятся вокруг\n",
    "# 1 или более символов в верхнем регистре.\n",
    "# Т.е. из строки \"mtMmEZUOmcq\" нужно получить ['mt', 'm', 'mcq']\n",
    "# Решить задачу двумя способами: с помощью re и без."
   ]
  },
  {
   "cell_type": "code",
   "execution_count": 2,
   "metadata": {},
   "outputs": [],
   "source": [
    "line = 'mtMmEZUOmcqWiryMQhhTxqKdSTKCYEJlEZCsGAMkgAYEOmHBSQsSUHKvSfbmxULaysmNO'\\\n",
    "       'GIPHpEMujalpPLNzRWXfwHQqwksrFeipEUlTLeclMwAoktKlfUBJHPsnawvjPhfgewVzK'\\\n",
    "       'TUfSYtBydXaVIpxWjNKgXANvIoumesCSSvjEGRJosUfuhRRDUuTQwLlJJJDdkVjfSAHqn'\\\n",
    "       'LxooisBDWuxIhyjJaXDYwdoVPnsllMngNlmkpYOlqXEFIxPqqqgAWdJsOvqppOfyIVjXa'\\\n",
    "       'pzGOrfinzzsNMtBIOclwbfRzytmDgEFUzxvZGkdOaQYLVBfsGSAfJMchgBWAsGnBnWete'\\\n",
    "       'kUTVuPluKRMQsdelzBgLzuwiimqkFKpyQRzOUyHkXRkdyIEBvTjdByCfkVIAQaAbfCvzQ'\\\n",
    "       'WrMMsYpLtdqRltXPqcSMXJIvlBzKoQnSwPFkapxGqnZCVFfKRLUIGBLOwhchWCdJbRuXb'\\\n",
    "       'JrwTRNyAxDctszKjSnndaFkcBZmJZWjUeYMdevHhBJMBSShDqbjAuDGTTrSXZywYkmjCC'\\\n",
    "       'EUZShGofaFpuespaZWLFNIsOqsIRLexWqTXsOaScgnsUKsJxiihwsCdBViEQBHQaOnLfB'\\\n",
    "       'tQQShTYHFqrvpVFiiEFMcIFTrTkIBpGUflwTvAzMUtmSQQZGHlmQKJndiAXbIzVkGSeuT'\\\n",
    "       'SkyjIGsiWLALHUCsnQtiOtrbQOQunurZgHFiZjWtZCEXZCnZjLeMiFlxnPkqfJFbCfKCu'\\\n",
    "       'UJmGYJZPpRBFNLkqigxFkrRAppYRXeSCBxbGvqHmlsSZMWSVQyzenWoGxyGPvbnhWHuXB'\\\n",
    "       'qHFjvihuNGEEFsfnMXTfptvIOlhKhyYwxLnqOsBdGvnuyEZIheApQGOXWeXoLWiDQNJFa'\\\n",
    "       'XiUWgsKQrDOeZoNlZNRvHnLgCmysUeKnVJXPFIzvdDyleXylnKBfLCjLHntltignbQoiQ'\\\n",
    "       'zTYwZAiRwycdlHfyHNGmkNqSwXUrxGc'"
   ]
  },
  {
   "cell_type": "code",
   "execution_count": 615,
   "metadata": {},
   "outputs": [],
   "source": [
    "def remove_Caps(lst):\n",
    "    new_list = []\n",
    "    i = 0\n",
    "    if len(lst) < 3:\n",
    "        lst = []\n",
    "    while i < (len(lst) - 2):\n",
    "        new_list = lst[i : i + 3]\n",
    "        if new_list[0].islower() and new_list[1].isupper() and new_list[2].islower():\n",
    "            lst.remove(new_list[1])\n",
    "        i += 1\n",
    "    return lst\n"
   ]
  },
  {
   "cell_type": "code",
   "execution_count": 616,
   "metadata": {},
   "outputs": [
    {
     "name": "stdout",
     "output_type": "stream",
     "text": [
      "['mt', 'M', 'm', 'EZUO', 'mcq', 'W', 'iry', 'MQ', 'hh', 'T', 'xq', 'K', 'd', 'STKCYEJ', 'l', 'EZC', 's', 'GAM', 'kg', 'AYEO', 'm', 'HBSQ', 's', 'SUHK', 'v', 'S', 'fbmx', 'UL', 'aysm', 'NOGIPH', 'p', 'EM', 'ujalp', 'PLN', 'z', 'RWX', 'fw', 'HQ', 'qwksr', 'F', 'eip', 'EU', 'l', 'TL', 'ecl', 'M', 'w', 'A', 'okt', 'K', 'lf', 'UBJHP', 'snawvj', 'P', 'hfgew', 'V', 'z', 'KTU', 'f', 'SY', 't', 'B', 'yd', 'X', 'a', 'VI', 'px', 'W', 'j', 'NK', 'g', 'XAN', 'v', 'I', 'oumes', 'CSS', 'vj', 'EGRJ', 'os', 'U', 'fuh', 'RRDU', 'u', 'TQ', 'w', 'L', 'l', 'JJJD', 'dk', 'V', 'jf', 'SAH', 'qn', 'L', 'xoois', 'BDW', 'ux', 'I', 'hyj', 'J', 'a', 'XDY', 'wdo', 'VP', 'nsll', 'M', 'ng', 'N', 'lmkp', 'YO', 'lq', 'XEFI', 'x', 'P', 'qqqg', 'AW', 'd', 'J', 's', 'O', 'vqpp', 'O', 'fy', 'IV', 'j', 'X', 'apz', 'GO', 'rfinzzs', 'NM', 't', 'BIO', 'clwbf', 'R', 'zytm', 'D', 'g', 'EFU', 'zxv', 'ZG', 'kd', 'O', 'a', 'QYLVB', 'fs', 'GSA', 'f', 'JM', 'chg', 'BWA', 's', 'G', 'n', 'B', 'n', 'W', 'etek', 'UTV', 'u', 'P', 'lu', 'KRMQ', 'sdelz', 'B', 'g', 'L', 'zuwiimqk', 'FK', 'py', 'QR', 'z', 'OU', 'y', 'H', 'k', 'XR', 'kdy', 'IEB', 'v', 'T', 'jd', 'B', 'y', 'C', 'fk', 'VIAQ', 'a', 'A', 'bf', 'C', 'vz', 'QW', 'r', 'MM', 's', 'Y', 'p', 'L', 'tdq', 'R', 'lt', 'XP', 'qc', 'SMXJI', 'vl', 'B', 'z', 'K', 'o', 'Q', 'n', 'S', 'w', 'PF', 'kapx', 'G', 'qn', 'ZCVF', 'f', 'KRLUIGBLO', 'whch', 'WC', 'd', 'J', 'b', 'R', 'u', 'X', 'b', 'J', 'rw', 'TRN', 'y', 'A', 'x', 'D', 'ctsz', 'K', 'j', 'S', 'nnda', 'F', 'kc', 'BZ', 'm', 'JZW', 'j', 'U', 'e', 'YM', 'dev', 'H', 'h', 'BJMBSS', 'h', 'D', 'qbj', 'A', 'u', 'DGTT', 'r', 'SXZ', 'yw', 'Y', 'kmj', 'CCEUZS', 'h', 'G', 'ofa', 'F', 'puespa', 'ZWLFNI', 's', 'O', 'qs', 'IRL', 'ex', 'W', 'q', 'TX', 's', 'O', 'a', 'S', 'cgns', 'UK', 's', 'J', 'xiihws', 'C', 'd', 'BV', 'i', 'EQBHQ', 'a', 'O', 'n', 'L', 'f', 'B', 't', 'QQS', 'h', 'TYHF', 'qrvp', 'VF', 'ii', 'EFM', 'c', 'IFT', 'r', 'T', 'k', 'IB', 'p', 'GU', 'flw', 'T', 'v', 'A', 'z', 'MU', 'tm', 'SQQZGH', 'lm', 'QKJ', 'ndi', 'AX', 'b', 'I', 'z', 'V', 'k', 'GS', 'eu', 'TS', 'kyj', 'IG', 'si', 'WLALHUC', 'sn', 'Q', 'ti', 'O', 'trb', 'QOQ', 'unur', 'Z', 'g', 'HF', 'i', 'Z', 'j', 'W', 't', 'ZCEXZC', 'n', 'Z', 'j', 'L', 'e', 'M', 'i', 'F', 'lxn', 'P', 'kqf', 'JF', 'b', 'C', 'f', 'KC', 'u', 'UJ', 'm', 'GYJZP', 'p', 'RBFNL', 'kqigx', 'F', 'kr', 'RA', 'pp', 'YRX', 'e', 'SCB', 'xb', 'G', 'vq', 'H', 'mls', 'SZMWSVQ', 'yzen', 'W', 'o', 'G', 'xy', 'GP', 'vbnh', 'WH', 'u', 'XB', 'q', 'HF', 'jvihu', 'NGEEF', 'sfn', 'MXT', 'fptv', 'IO', 'lh', 'K', 'hy', 'Y', 'wx', 'L', 'nq', 'O', 's', 'B', 'd', 'G', 'vnuy', 'EZI', 'he', 'A', 'p', 'QGOXW', 'e', 'X', 'o', 'LW', 'i', 'DQNJF', 'a', 'X', 'i', 'UW', 'gs', 'KQ', 'r', 'DO', 'e', 'Z', 'o', 'N', 'l', 'ZNR', 'v', 'H', 'n', 'L', 'g', 'C', 'mys', 'U', 'e', 'K', 'n', 'VJXPFI', 'zvd', 'D', 'yle', 'X', 'yln', 'KB', 'f', 'LC', 'j', 'LH', 'ntltignb', 'Q', 'oi', 'Q', 'z', 'TY', 'w', 'ZA', 'i', 'R', 'wycdl', 'H', 'fy', 'HNG', 'mk', 'N', 'q', 'S', 'w', 'XU', 'rx', 'G', 'c']\n"
     ]
    }
   ],
   "source": [
    "# line = 'lineLINE'\n",
    "lst = []\n",
    "str_ = ''\n",
    "str_1 = ''\n",
    "for char in line:\n",
    "    if char.islower():\n",
    "        str_ += char\n",
    "    else:\n",
    "        if str_:\n",
    "            lst.append(str_)\n",
    "        str_ = ''\n",
    "        \n",
    "    if char.isupper():\n",
    "            str_1 += char\n",
    "    else:\n",
    "        if str_1:\n",
    "            lst.append(str_1)\n",
    "        str_1 = ''\n",
    "if str_:\n",
    "    lst.append(str_)\n",
    "if str_1:\n",
    "    lst.append(str_1)\n",
    "    \n",
    "\n",
    "print(lst)\n",
    "        \n"
   ]
  },
  {
   "cell_type": "code",
   "execution_count": 617,
   "metadata": {},
   "outputs": [
    {
     "name": "stdout",
     "output_type": "stream",
     "text": [
      "['mt', 'm', 'mcq', 'iry', 'hh', 'xq', 'd', 'l', 's', 'kg', 'm', 's', 'v', 'fbmx', 'aysm', 'p', 'ujalp', 'z', 'fw', 'qwksr', 'eip', 'l', 'ecl', 'w', 'okt', 'lf', 'snawvj', 'hfgew', 'z', 'f', 't', 'yd', 'a', 'px', 'j', 'g', 'v', 'oumes', 'vj', 'os', 'fuh', 'u', 'w', 'l', 'dk', 'jf', 'qn', 'xoois', 'ux', 'hyj', 'a', 'wdo', 'nsll', 'ng', 'lmkp', 'lq', 'x', 'qqqg', 'd', 's', 'vqpp', 'fy', 'j', 'apz', 'rfinzzs', 't', 'clwbf', 'zytm', 'g', 'zxv', 'kd', 'a', 'fs', 'f', 'chg', 's', 'n', 'n', 'etek', 'u', 'lu', 'sdelz', 'g', 'zuwiimqk', 'py', 'z', 'y', 'k', 'kdy', 'v', 'jd', 'y', 'fk', 'a', 'bf', 'vz', 'r', 's', 'p', 'tdq', 'lt', 'qc', 'vl', 'z', 'o', 'n', 'w', 'kapx', 'qn', 'f', 'whch', 'd', 'b', 'u', 'b', 'rw', 'y', 'x', 'ctsz', 'j', 'nnda', 'kc', 'm', 'j', 'e', 'dev', 'h', 'h', 'qbj', 'u', 'r', 'yw', 'kmj', 'h', 'ofa', 'puespa', 's', 'qs', 'ex', 'q', 's', 'a', 'cgns', 's', 'xiihws', 'd', 'i', 'a', 'n', 'f', 't', 'h', 'qrvp', 'ii', 'c', 'r', 'k', 'p', 'flw', 'v', 'z', 'tm', 'lm', 'ndi', 'b', 'z', 'k', 'eu', 'kyj', 'si', 'sn', 'ti', 'trb', 'unur', 'g', 'i', 'j', 't', 'n', 'j', 'e', 'i', 'lxn', 'kqf', 'b', 'f', 'u', 'm', 'p', 'kqigx', 'kr', 'pp', 'e', 'xb', 'vq', 'mls', 'yzen', 'o', 'xy', 'vbnh', 'u', 'q', 'jvihu', 'sfn', 'fptv', 'lh', 'hy', 'wx', 'nq', 's', 'd', 'vnuy', 'he', 'p', 'e', 'o', 'i', 'a', 'i', 'gs', 'r', 'e', 'o', 'l', 'v', 'n', 'g', 'mys', 'e', 'n', 'zvd', 'yle', 'yln', 'f', 'j', 'ntltignb', 'oi', 'z', 'w', 'i', 'wycdl', 'fy', 'mk', 'q', 'w', 'rx', 'c']\n"
     ]
    }
   ],
   "source": [
    "print(remove_Caps(lst))"
   ]
  },
  {
   "cell_type": "code",
   "execution_count": 618,
   "metadata": {},
   "outputs": [
    {
     "name": "stdout",
     "output_type": "stream",
     "text": [
      "['mt', 'M', 'm', 'EZUO', 'mcq', 'W', 'iry', 'MQ', 'hh', 'T', 'xq', 'K', 'd', 'STKCYEJ', 'l', 'EZC', 's', 'GAM', 'kg', 'AYEO', 'm', 'HBSQ', 's', 'SUHK', 'v', 'S', 'fbmx', 'UL', 'aysm', 'NOGIPH', 'p', 'EM', 'ujalp', 'PLN', 'z', 'RWX', 'fw', 'HQ', 'qwksr', 'F', 'eip', 'EU', 'l', 'TL', 'ecl', 'M', 'w', 'A', 'okt', 'K', 'lf', 'UBJHP', 'snawvj', 'P', 'hfgew', 'V', 'z', 'KTU', 'f', 'SY', 't', 'B', 'yd', 'X', 'a', 'VI', 'px', 'W', 'j', 'NK', 'g', 'XAN', 'v', 'I', 'oumes', 'CSS', 'vj', 'EGRJ', 'os', 'U', 'fuh', 'RRDU', 'u', 'TQ', 'w', 'L', 'l', 'JJJD', 'dk', 'V', 'jf', 'SAH', 'qn', 'L', 'xoois', 'BDW', 'ux', 'I', 'hyj', 'J', 'a', 'XDY', 'wdo', 'VP', 'nsll', 'M', 'ng', 'N', 'lmkp', 'YO', 'lq', 'XEFI', 'x', 'P', 'qqqg', 'AW', 'd', 'J', 's', 'O', 'vqpp', 'O', 'fy', 'IV', 'j', 'X', 'apz', 'GO', 'rfinzzs', 'NM', 't', 'BIO', 'clwbf', 'R', 'zytm', 'D', 'g', 'EFU', 'zxv', 'ZG', 'kd', 'O', 'a', 'QYLVB', 'fs', 'GSA', 'f', 'JM', 'chg', 'BWA', 's', 'G', 'n', 'B', 'n', 'W', 'etek', 'UTV', 'u', 'P', 'lu', 'KRMQ', 'sdelz', 'B', 'g', 'L', 'zuwiimqk', 'FK', 'py', 'QR', 'z', 'OU', 'y', 'H', 'k', 'XR', 'kdy', 'IEB', 'v', 'T', 'jd', 'B', 'y', 'C', 'fk', 'VIAQ', 'a', 'A', 'bf', 'C', 'vz', 'QW', 'r', 'MM', 's', 'Y', 'p', 'L', 'tdq', 'R', 'lt', 'XP', 'qc', 'SMXJI', 'vl', 'B', 'z', 'K', 'o', 'Q', 'n', 'S', 'w', 'PF', 'kapx', 'G', 'qn', 'ZCVF', 'f', 'KRLUIGBLO', 'whch', 'WC', 'd', 'J', 'b', 'R', 'u', 'X', 'b', 'J', 'rw', 'TRN', 'y', 'A', 'x', 'D', 'ctsz', 'K', 'j', 'S', 'nnda', 'F', 'kc', 'BZ', 'm', 'JZW', 'j', 'U', 'e', 'YM', 'dev', 'H', 'h', 'BJMBSS', 'h', 'D', 'qbj', 'A', 'u', 'DGTT', 'r', 'SXZ', 'yw', 'Y', 'kmj', 'CCEUZS', 'h', 'G', 'ofa', 'F', 'puespa', 'ZWLFNI', 's', 'O', 'qs', 'IRL', 'ex', 'W', 'q', 'TX', 's', 'O', 'a', 'S', 'cgns', 'UK', 's', 'J', 'xiihws', 'C', 'd', 'BV', 'i', 'EQBHQ', 'a', 'O', 'n', 'L', 'f', 'B', 't', 'QQS', 'h', 'TYHF', 'qrvp', 'VF', 'ii', 'EFM', 'c', 'IFT', 'r', 'T', 'k', 'IB', 'p', 'GU', 'flw', 'T', 'v', 'A', 'z', 'MU', 'tm', 'SQQZGH', 'lm', 'QKJ', 'ndi', 'AX', 'b', 'I', 'z', 'V', 'k', 'GS', 'eu', 'TS', 'kyj', 'IG', 'si', 'WLALHUC', 'sn', 'Q', 'ti', 'O', 'trb', 'QOQ', 'unur', 'Z', 'g', 'HF', 'i', 'Z', 'j', 'W', 't', 'ZCEXZC', 'n', 'Z', 'j', 'L', 'e', 'M', 'i', 'F', 'lxn', 'P', 'kqf', 'JF', 'b', 'C', 'f', 'KC', 'u', 'UJ', 'm', 'GYJZP', 'p', 'RBFNL', 'kqigx', 'F', 'kr', 'RA', 'pp', 'YRX', 'e', 'SCB', 'xb', 'G', 'vq', 'H', 'mls', 'SZMWSVQ', 'yzen', 'W', 'o', 'G', 'xy', 'GP', 'vbnh', 'WH', 'u', 'XB', 'q', 'HF', 'jvihu', 'NGEEF', 'sfn', 'MXT', 'fptv', 'IO', 'lh', 'K', 'hy', 'Y', 'wx', 'L', 'nq', 'O', 's', 'B', 'd', 'G', 'vnuy', 'EZI', 'he', 'A', 'p', 'QGOXW', 'e', 'X', 'o', 'LW', 'i', 'DQNJF', 'a', 'X', 'i', 'UW', 'gs', 'KQ', 'r', 'DO', 'e', 'Z', 'o', 'N', 'l', 'ZNR', 'v', 'H', 'n', 'L', 'g', 'C', 'mys', 'U', 'e', 'K', 'n', 'VJXPFI', 'zvd', 'D', 'yle', 'X', 'yln', 'KB', 'f', 'LC', 'j', 'LH', 'ntltignb', 'Q', 'oi', 'Q', 'z', 'TY', 'w', 'ZA', 'i', 'R', 'wycdl', 'H', 'fy', 'HNG', 'mk', 'N', 'q', 'S', 'w', 'XU', 'rx', 'G', 'c']\n"
     ]
    }
   ],
   "source": [
    "import re\n",
    "\n",
    "with_re = re.findall(r'[A-Z]+|[a-z]+', line)\n",
    "\n",
    "print(with_re)"
   ]
  },
  {
   "cell_type": "code",
   "execution_count": 619,
   "metadata": {},
   "outputs": [
    {
     "name": "stdout",
     "output_type": "stream",
     "text": [
      "['mt', 'm', 'mcq', 'iry', 'hh', 'xq', 'd', 'l', 's', 'kg', 'm', 's', 'v', 'fbmx', 'aysm', 'p', 'ujalp', 'z', 'fw', 'qwksr', 'eip', 'l', 'ecl', 'w', 'okt', 'lf', 'snawvj', 'hfgew', 'z', 'f', 't', 'yd', 'a', 'px', 'j', 'g', 'v', 'oumes', 'vj', 'os', 'fuh', 'u', 'w', 'l', 'dk', 'jf', 'qn', 'xoois', 'ux', 'hyj', 'a', 'wdo', 'nsll', 'ng', 'lmkp', 'lq', 'x', 'qqqg', 'd', 's', 'vqpp', 'fy', 'j', 'apz', 'rfinzzs', 't', 'clwbf', 'zytm', 'g', 'zxv', 'kd', 'a', 'fs', 'f', 'chg', 's', 'n', 'n', 'etek', 'u', 'lu', 'sdelz', 'g', 'zuwiimqk', 'py', 'z', 'y', 'k', 'kdy', 'v', 'jd', 'y', 'fk', 'a', 'bf', 'vz', 'r', 's', 'p', 'tdq', 'lt', 'qc', 'vl', 'z', 'o', 'n', 'w', 'kapx', 'qn', 'f', 'whch', 'd', 'b', 'u', 'b', 'rw', 'y', 'x', 'ctsz', 'j', 'nnda', 'kc', 'm', 'j', 'e', 'dev', 'h', 'h', 'qbj', 'u', 'r', 'yw', 'kmj', 'h', 'ofa', 'puespa', 's', 'qs', 'ex', 'q', 's', 'a', 'cgns', 's', 'xiihws', 'd', 'i', 'a', 'n', 'f', 't', 'h', 'qrvp', 'ii', 'c', 'r', 'k', 'p', 'flw', 'v', 'z', 'tm', 'lm', 'ndi', 'b', 'z', 'k', 'eu', 'kyj', 'si', 'sn', 'ti', 'trb', 'unur', 'g', 'i', 'j', 't', 'n', 'j', 'e', 'i', 'lxn', 'kqf', 'b', 'f', 'u', 'm', 'p', 'kqigx', 'kr', 'pp', 'e', 'xb', 'vq', 'mls', 'yzen', 'o', 'xy', 'vbnh', 'u', 'q', 'jvihu', 'sfn', 'fptv', 'lh', 'hy', 'wx', 'nq', 's', 'd', 'vnuy', 'he', 'p', 'e', 'o', 'i', 'a', 'i', 'gs', 'r', 'e', 'o', 'l', 'v', 'n', 'g', 'mys', 'e', 'n', 'zvd', 'yle', 'yln', 'f', 'j', 'ntltignb', 'oi', 'z', 'w', 'i', 'wycdl', 'fy', 'mk', 'q', 'w', 'rx', 'c']\n"
     ]
    }
   ],
   "source": [
    "print(remove_Caps(with_re))"
   ]
  },
  {
   "cell_type": "code",
   "execution_count": null,
   "metadata": {},
   "outputs": [],
   "source": [
    "\n"
   ]
  },
  {
   "cell_type": "code",
   "execution_count": null,
   "metadata": {},
   "outputs": [],
   "source": []
  }
 ],
 "metadata": {
  "kernelspec": {
   "display_name": "Python 3",
   "language": "python",
   "name": "python3"
  },
  "language_info": {
   "codemirror_mode": {
    "name": "ipython",
    "version": 3
   },
   "file_extension": ".py",
   "mimetype": "text/x-python",
   "name": "python",
   "nbconvert_exporter": "python",
   "pygments_lexer": "ipython3",
   "version": "3.6.5"
  }
 },
 "nbformat": 4,
 "nbformat_minor": 2
}
