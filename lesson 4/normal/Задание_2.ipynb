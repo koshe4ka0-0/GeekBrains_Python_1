{
 "cells": [
  {
   "cell_type": "code",
   "execution_count": 45,
   "metadata": {},
   "outputs": [],
   "source": [
    "# Задание-2:\n",
    "# Вывести символы в верхнем регистре, слева от которых находятся\n",
    "# два символа в нижнем регистре, а справа - два символа в верхнем регистре.\n",
    "# Т.е. из строки \n",
    "# \"GAMkgAYEOmHBSQsSUHKvSfbmxULaysmNOGIPHpEMujalpPLNzRWXfwHQqwksrFeipEUlTLec\"\n",
    "# нужно получить список строк: ['AY', 'NOGI', 'P']\n",
    "# Решить задачу двумя способами: с помощью re и без."
   ]
  },
  {
   "cell_type": "code",
   "execution_count": 65,
   "metadata": {},
   "outputs": [],
   "source": [
    "import re\n",
    "str_ = \"GAMkgAYEOmHBSQsSUHKvSfbmxULaysmNOGIPHpEMujalpPLNzRWXfwHQqwksrFeipEUlTLec\"\n",
    "line = 'mtMmEZUOmcqWiryMQhhTxqKdSTKCYEJlEZCsGAMkgAYEOmHBSQsSUHKvSfbmxULaysm'\\\n",
    "       'NOGIPHpEMujalpPLNzRWXfwHQqwksrFeipEUlTLeclMwAoktKlfUBJHPsnawvjPhfgewV'\\\n",
    "       'fzKTUfSYtBydXaVIpxWjNKgXANvIoumesCSSvjEGRJosUfuhRRDUuTQwLlJJJDdkVjfSA'\\\n",
    "       'HqnLxooisBDWuxIhyjJaXDYwdoVPnsllMngNlmkpYOlqXEFIxPqqqgAWdJsOvqppOfyIV'\\\n",
    "       'jXapzGOrfinzzsNMtBIOclwbfRzytmDgEFUzxvZGkdOaQYLVBfsGSAfJMchgBWAsGnBnW'\\\n",
    "       'etekUTVuPluKRMQsdelzBgLzuwiimqkFKpyQRzOUyHkXRkdyIEBvTjdByCfkVIAQaAbfC'\\\n",
    "       'vzQWrMMsYpLtdqRltXPqcSMXJIvlBzKoQnSwPFkapxGqnZCVFfKRLUIGBLOwhchWCdJbR'\\\n",
    "       'uXbJrwTRNyAxDctszKjSnndaFkcBZmJZWjUeYMdevHhBJMBSShDqbjAuDGTTrSXZywYkm'\\\n",
    "       'jCCEUZShGofaFpuespaZWLFNIsOqsIRLexWqTXsOaScgnsUKsJxiihwsCdBViEQBHQaOn'\\\n",
    "       'LfBtQQShTYHFqrvpVFiiEFMcIFTrTkIBpGUflwTvAzMUtmSQQZGHlmQKJndiAXbIzVkGS'\\\n",
    "       'euTSkyjIGsiWLALHUCsnQtiOtrbQOQunurZgHFiZjWtZCEXZCnZjLeMiFlxnPkqfJFbCf'\\\n",
    "       'KCuUJmGYJZPpRBFNLkqigxFkrRAppYRXeSCBxbGvqHmlsSZMWSVQyzenWoGxyGPvbnhWH'\\\n",
    "       'uXBqHFjvihuNGEEFsfnMXTfptvIOlhKhyYwxLnqOsBdGvnuyEZIheApQGOXWeXoLWiDQN'\\\n",
    "       'JFaXiUWgsKQrDOeZoNlZNRvHnLgCmysUeKnVJXPFIzvdDyleXylnKBfLCjLHntltignbQ'\\\n",
    "       'oiQzTYwZAiRwycdlHfyHNGmkNqSwXUrxGC'\n"
   ]
  },
  {
   "cell_type": "code",
   "execution_count": 66,
   "metadata": {},
   "outputs": [],
   "source": [
    "\n",
    "result = re.findall(r'[a-z]{2}([A-Z]+)[A-Z]{2}', line)"
   ]
  },
  {
   "cell_type": "code",
   "execution_count": 67,
   "metadata": {},
   "outputs": [
    {
     "name": "stdout",
     "output_type": "stream",
     "text": [
      "['AY', 'NOGI', 'P', 'UBJ', 'K', 'C', 'EG', 'RR', 'S', 'B', 'XE', 'G', 'B', 'U', 'KR', 'I', 'VI', 'SMX', 'ZC', 'T', 'CCEU', 'ZWLF', 'I', 'E', 'SQQZ', 'Q', 'WLALH', 'Q', 'Y', 'SZMWS', 'NGE', 'M', 'E', 'H']\n"
     ]
    }
   ],
   "source": [
    "print(result)"
   ]
  },
  {
   "cell_type": "code",
   "execution_count": 68,
   "metadata": {},
   "outputs": [
    {
     "name": "stdout",
     "output_type": "stream",
     "text": [
      "['mt', 'M', 'm', 'EZUO', 'mcq', 'W', 'iry', 'MQ', 'hh', 'T', 'xq', 'K', 'd', 'STKCYEJ', 'l', 'EZC', 's', 'GAM', 'kg', 'AYEO', 'm', 'HBSQ', 's', 'SUHK', 'v', 'S', 'fbmx', 'UL', 'aysm', 'NOGIPH', 'p', 'EM', 'ujalp', 'PLN', 'z', 'RWX', 'fw', 'HQ', 'qwksr', 'F', 'eip', 'EU', 'l', 'TL', 'ecl', 'M', 'w', 'A', 'okt', 'K', 'lf', 'UBJHP', 'snawvj', 'P', 'hfgew', 'V', 'fz', 'KTU', 'f', 'SY', 't', 'B', 'yd', 'X', 'a', 'VI', 'px', 'W', 'j', 'NK', 'g', 'XAN', 'v', 'I', 'oumes', 'CSS', 'vj', 'EGRJ', 'os', 'U', 'fuh', 'RRDU', 'u', 'TQ', 'w', 'L', 'l', 'JJJD', 'dk', 'V', 'jf', 'SAH', 'qn', 'L', 'xoois', 'BDW', 'ux', 'I', 'hyj', 'J', 'a', 'XDY', 'wdo', 'VP', 'nsll', 'M', 'ng', 'N', 'lmkp', 'YO', 'lq', 'XEFI', 'x', 'P', 'qqqg', 'AW', 'd', 'J', 's', 'O', 'vqpp', 'O', 'fy', 'IV', 'j', 'X', 'apz', 'GO', 'rfinzzs', 'NM', 't', 'BIO', 'clwbf', 'R', 'zytm', 'D', 'g', 'EFU', 'zxv', 'ZG', 'kd', 'O', 'a', 'QYLVB', 'fs', 'GSA', 'f', 'JM', 'chg', 'BWA', 's', 'G', 'n', 'B', 'n', 'W', 'etek', 'UTV', 'u', 'P', 'lu', 'KRMQ', 'sdelz', 'B', 'g', 'L', 'zuwiimqk', 'FK', 'py', 'QR', 'z', 'OU', 'y', 'H', 'k', 'XR', 'kdy', 'IEB', 'v', 'T', 'jd', 'B', 'y', 'C', 'fk', 'VIAQ', 'a', 'A', 'bf', 'C', 'vz', 'QW', 'r', 'MM', 's', 'Y', 'p', 'L', 'tdq', 'R', 'lt', 'XP', 'qc', 'SMXJI', 'vl', 'B', 'z', 'K', 'o', 'Q', 'n', 'S', 'w', 'PF', 'kapx', 'G', 'qn', 'ZCVF', 'f', 'KRLUIGBLO', 'whch', 'WC', 'd', 'J', 'b', 'R', 'u', 'X', 'b', 'J', 'rw', 'TRN', 'y', 'A', 'x', 'D', 'ctsz', 'K', 'j', 'S', 'nnda', 'F', 'kc', 'BZ', 'm', 'JZW', 'j', 'U', 'e', 'YM', 'dev', 'H', 'h', 'BJMBSS', 'h', 'D', 'qbj', 'A', 'u', 'DGTT', 'r', 'SXZ', 'yw', 'Y', 'kmj', 'CCEUZS', 'h', 'G', 'ofa', 'F', 'puespa', 'ZWLFNI', 's', 'O', 'qs', 'IRL', 'ex', 'W', 'q', 'TX', 's', 'O', 'a', 'S', 'cgns', 'UK', 's', 'J', 'xiihws', 'C', 'd', 'BV', 'i', 'EQBHQ', 'a', 'O', 'n', 'L', 'f', 'B', 't', 'QQS', 'h', 'TYHF', 'qrvp', 'VF', 'ii', 'EFM', 'c', 'IFT', 'r', 'T', 'k', 'IB', 'p', 'GU', 'flw', 'T', 'v', 'A', 'z', 'MU', 'tm', 'SQQZGH', 'lm', 'QKJ', 'ndi', 'AX', 'b', 'I', 'z', 'V', 'k', 'GS', 'eu', 'TS', 'kyj', 'IG', 'si', 'WLALHUC', 'sn', 'Q', 'ti', 'O', 'trb', 'QOQ', 'unur', 'Z', 'g', 'HF', 'i', 'Z', 'j', 'W', 't', 'ZCEXZC', 'n', 'Z', 'j', 'L', 'e', 'M', 'i', 'F', 'lxn', 'P', 'kqf', 'JF', 'b', 'C', 'f', 'KC', 'u', 'UJ', 'm', 'GYJZP', 'p', 'RBFNL', 'kqigx', 'F', 'kr', 'RA', 'pp', 'YRX', 'e', 'SCB', 'xb', 'G', 'vq', 'H', 'mls', 'SZMWSVQ', 'yzen', 'W', 'o', 'G', 'xy', 'GP', 'vbnh', 'WH', 'u', 'XB', 'q', 'HF', 'jvihu', 'NGEEF', 'sfn', 'MXT', 'fptv', 'IO', 'lh', 'K', 'hy', 'Y', 'wx', 'L', 'nq', 'O', 's', 'B', 'd', 'G', 'vnuy', 'EZI', 'he', 'A', 'p', 'QGOXW', 'e', 'X', 'o', 'LW', 'i', 'DQNJF', 'a', 'X', 'i', 'UW', 'gs', 'KQ', 'r', 'DO', 'e', 'Z', 'o', 'N', 'l', 'ZNR', 'v', 'H', 'n', 'L', 'g', 'C', 'mys', 'U', 'e', 'K', 'n', 'VJXPFI', 'zvd', 'D', 'yle', 'X', 'yln', 'KB', 'f', 'LC', 'j', 'LH', 'ntltignb', 'Q', 'oi', 'Q', 'z', 'TY', 'w', 'ZA', 'i', 'R', 'wycdl', 'H', 'fy', 'HNG', 'mk', 'N', 'q', 'S', 'w', 'XU', 'rx', 'GC']\n"
     ]
    }
   ],
   "source": [
    "# line = \"GAMkgAYEOmHBSQsSUHKvSfbmxULaysmNOGIPHpEMujalpPLNzRWXfwHQqwksrFeipEUlTLec\"\n",
    "lst = []\n",
    "str_ = ''\n",
    "str_1 = ''\n",
    "for char in line:\n",
    "    if char.islower():\n",
    "        str_ += char\n",
    "    else:\n",
    "        if str_:\n",
    "            lst.append(str_)\n",
    "        str_ = ''\n",
    "        \n",
    "    if char.isupper():\n",
    "            str_1 += char\n",
    "    else:\n",
    "        if str_1:\n",
    "            lst.append(str_1)\n",
    "        str_1 = ''\n",
    "if str_:\n",
    "    lst.append(str_)\n",
    "if str_1:\n",
    "    lst.append(str_1)\n",
    "    \n",
    "\n",
    "print(lst)"
   ]
  },
  {
   "cell_type": "code",
   "execution_count": 69,
   "metadata": {},
   "outputs": [
    {
     "name": "stdout",
     "output_type": "stream",
     "text": [
      "['AY', 'NOGI', 'P', 'UBJ', 'K', 'C', 'EG', 'RR', 'S', 'B', 'XE', 'G', 'B', 'U', 'KR', 'I', 'VI', 'SMX', 'ZC', 'T', 'CCEU', 'ZWLF', 'I', 'E', 'SQQZ', 'Q', 'WLALH', 'Q', 'Y', 'SZMWS', 'NGE', 'M', 'E', 'H']\n"
     ]
    }
   ],
   "source": [
    "new_list = []\n",
    "str_q = ''\n",
    "for i in range(1, len(lst)):\n",
    "    if len(lst[i - 1]) >= 2 and lst[i - 1].islower() and len(lst[i]) >= 3:\n",
    "#         print(lst[i])\n",
    "        for l in range(2, len(lst[i])):\n",
    "            if lst[i][l - 2].isupper() and lst[i][l -1 ].isupper() and lst[i][l].isupper():\n",
    "                str_q += lst[i][l - 2]\n",
    "#                 print(str_q)\n",
    "        new_list.append(str_q)\n",
    "        str_q = ''\n",
    "\n",
    "print(new_list)\n"
   ]
  },
  {
   "cell_type": "code",
   "execution_count": null,
   "metadata": {},
   "outputs": [],
   "source": []
  }
 ],
 "metadata": {
  "kernelspec": {
   "display_name": "Python 3",
   "language": "python",
   "name": "python3"
  },
  "language_info": {
   "codemirror_mode": {
    "name": "ipython",
    "version": 3
   },
   "file_extension": ".py",
   "mimetype": "text/x-python",
   "name": "python",
   "nbconvert_exporter": "python",
   "pygments_lexer": "ipython3",
   "version": "3.6.5"
  }
 },
 "nbformat": 4,
 "nbformat_minor": 2
}
