{
 "cells": [
  {
   "cell_type": "code",
   "execution_count": 6,
   "metadata": {},
   "outputs": [],
   "source": [
    "# Задача-4:\n",
    "# Даны четыре точки А1(х1, у1), А2(x2 ,у2), А3(x3 , у3), А4(х4, у4).\n",
    "# Определить, будут ли они вершинами параллелограмма.\n",
    "import math"
   ]
  },
  {
   "cell_type": "code",
   "execution_count": 7,
   "metadata": {},
   "outputs": [],
   "source": [
    "def is_parallelogram(x1, y1, x2, y2 , x3, y3, x4, y4):\n",
    "    def lenght(x1, y1, x2, y2):\n",
    "        l = math.sqrt((x1 - x2)**2 + (y1 - y2)**2)\n",
    "        return l\n",
    "    def angel(x1, y1, x2, y2):\n",
    "        a = (y1 - y2) / (x1 - x2)\n",
    "        return a\n",
    "    if lenght(x1, y1, x2, y2) == lenght(x4, y4, x3, y3) and angel(x1, y1, x2, y2) == angel(x4, y4, x3, y3):\n",
    "        return 'Точки являются вершинами параллелограмма'\n",
    "    else:\n",
    "        return 'Точки не  являются вершинами параллелограмма'\n",
    "\n",
    "    "
   ]
  },
  {
   "cell_type": "code",
   "execution_count": 8,
   "metadata": {},
   "outputs": [
    {
     "data": {
      "text/plain": [
       "'Точки являются вершинами параллелограмма'"
      ]
     },
     "execution_count": 8,
     "metadata": {},
     "output_type": "execute_result"
    }
   ],
   "source": [
    "is_parallelogram(-6, 1, 0, 5, 6, -4, 0 , -8)"
   ]
  },
  {
   "cell_type": "code",
   "execution_count": 9,
   "metadata": {},
   "outputs": [
    {
     "data": {
      "text/plain": [
       "'Точки являются вершинами параллелограмма'"
      ]
     },
     "execution_count": 9,
     "metadata": {},
     "output_type": "execute_result"
    }
   ],
   "source": [
    "is_parallelogram(1, 0, 2, 3, 3, 2, 2 , -1)"
   ]
  },
  {
   "cell_type": "code",
   "execution_count": null,
   "metadata": {},
   "outputs": [],
   "source": []
  }
 ],
 "metadata": {
  "kernelspec": {
   "display_name": "Python 3",
   "language": "python",
   "name": "python3"
  },
  "language_info": {
   "codemirror_mode": {
    "name": "ipython",
    "version": 3
   },
   "file_extension": ".py",
   "mimetype": "text/x-python",
   "name": "python",
   "nbconvert_exporter": "python",
   "pygments_lexer": "ipython3",
   "version": "3.6.5"
  }
 },
 "nbformat": 4,
 "nbformat_minor": 2
}
