{
 "cells": [
  {
   "cell_type": "code",
   "execution_count": 1,
   "metadata": {},
   "outputs": [],
   "source": [
    "# Задание-2:\n",
    "# Дан шестизначный номер билета. Определить, является ли билет счастливым.\n",
    "# Решение реализовать в виде функции.\n",
    "# Билет считается счастливым, если сумма его первых и последних цифр равны.\n",
    "# !!!P.S.: функция не должна НИЧЕГО print'ить"
   ]
  },
  {
   "cell_type": "code",
   "execution_count": 43,
   "metadata": {},
   "outputs": [],
   "source": [
    "def lucky_ticket(ticket_number):\n",
    "    if len(str(ticket_number)) != 6:\n",
    "        return 'билет введен неправильно'\n",
    "    first_part = list(str(ticket_number // 1000))\n",
    "    second_part = list(str(ticket_number % 1000))\n",
    "    \n",
    "    first_part = [int(item) for item in first_part]\n",
    "    second_part = [int(item) for item in second_part]\n",
    "  \n",
    "    if sum(first_part) == sum(second_part):\n",
    "        return 'билет счастливый'\n",
    "    return 'билет не счасливый'"
   ]
  },
  {
   "cell_type": "code",
   "execution_count": null,
   "metadata": {},
   "outputs": [],
   "source": []
  },
  {
   "cell_type": "code",
   "execution_count": 44,
   "metadata": {},
   "outputs": [
    {
     "data": {
      "text/plain": [
       "'билет счастливый'"
      ]
     },
     "execution_count": 44,
     "metadata": {},
     "output_type": "execute_result"
    }
   ],
   "source": [
    "lucky_ticket(123006)"
   ]
  },
  {
   "cell_type": "code",
   "execution_count": 45,
   "metadata": {},
   "outputs": [
    {
     "data": {
      "text/plain": [
       "'билет введен неправильно'"
      ]
     },
     "execution_count": 45,
     "metadata": {},
     "output_type": "execute_result"
    }
   ],
   "source": [
    "lucky_ticket(12321)"
   ]
  },
  {
   "cell_type": "code",
   "execution_count": 46,
   "metadata": {},
   "outputs": [
    {
     "data": {
      "text/plain": [
       "'билет счастливый'"
      ]
     },
     "execution_count": 46,
     "metadata": {},
     "output_type": "execute_result"
    }
   ],
   "source": [
    "lucky_ticket(436751)"
   ]
  },
  {
   "cell_type": "code",
   "execution_count": null,
   "metadata": {},
   "outputs": [],
   "source": []
  }
 ],
 "metadata": {
  "kernelspec": {
   "display_name": "Python 3",
   "language": "python",
   "name": "python3"
  },
  "language_info": {
   "codemirror_mode": {
    "name": "ipython",
    "version": 3
   },
   "file_extension": ".py",
   "mimetype": "text/x-python",
   "name": "python",
   "nbconvert_exporter": "python",
   "pygments_lexer": "ipython3",
   "version": "3.6.5"
  }
 },
 "nbformat": 4,
 "nbformat_minor": 2
}
