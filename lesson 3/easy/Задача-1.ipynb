{
 "cells": [
  {
   "cell_type": "code",
   "execution_count": 29,
   "metadata": {},
   "outputs": [],
   "source": [
    "# Задание-1:\n",
    "# Напишите функцию, округляющую полученное произвольное десятичное число\n",
    "# до кол-ва знаков (кол-во знаков передается вторым аргументом).\n",
    "# Округление должно происходить по математическим правилам (0.6 --> 1, 0.4 --> 0).\n",
    "# Для решения задачи не используйте встроенные функции и функции из модуля math.\n"
   ]
  },
  {
   "cell_type": "code",
   "execution_count": 98,
   "metadata": {},
   "outputs": [],
   "source": [
    "def my_round(number, ndigits):\n",
    "    i = len(str(number))- ndigits\n",
    "    tenth = len(str(number))\n",
    "    number = number * 10 **len(str(number))\n",
    "    while i > 0:\n",
    "        a = (number % 10)\n",
    "        number //= 10\n",
    "        if a >= 5:\n",
    "            number += 1\n",
    "        tenth -= 1\n",
    "        i -= 1\n",
    "    number = number / (10**tenth)\n",
    "    return number\n",
    "    "
   ]
  },
  {
   "cell_type": "code",
   "execution_count": 99,
   "metadata": {},
   "outputs": [
    {
     "data": {
      "text/plain": [
       "0.68"
      ]
     },
     "execution_count": 99,
     "metadata": {},
     "output_type": "execute_result"
    }
   ],
   "source": [
    "my_round(0.6799 , 3)"
   ]
  },
  {
   "cell_type": "code",
   "execution_count": 100,
   "metadata": {},
   "outputs": [
    {
     "name": "stdout",
     "output_type": "stream",
     "text": [
      "2.12346\n",
      "2.2\n",
      "3.0\n"
     ]
    }
   ],
   "source": [
    "print(my_round(2.1234567, 5))\n",
    "print(my_round(2.1999967, 5))\n",
    "print(my_round(2.9999967, 5))\n"
   ]
  },
  {
   "cell_type": "code",
   "execution_count": null,
   "metadata": {},
   "outputs": [],
   "source": []
  }
 ],
 "metadata": {
  "kernelspec": {
   "display_name": "Python 3",
   "language": "python",
   "name": "python3"
  },
  "language_info": {
   "codemirror_mode": {
    "name": "ipython",
    "version": 3
   },
   "file_extension": ".py",
   "mimetype": "text/x-python",
   "name": "python",
   "nbconvert_exporter": "python",
   "pygments_lexer": "ipython3",
   "version": "3.6.5"
  }
 },
 "nbformat": 4,
 "nbformat_minor": 2
}
