{
 "cells": [
  {
   "cell_type": "code",
   "execution_count": 39,
   "metadata": {},
   "outputs": [
    {
     "name": "stdout",
     "output_type": "stream",
     "text": [
      "[-3, -44, -32, 36, 17, -22, 1, 13, 25, 18]\n"
     ]
    }
   ],
   "source": [
    "# Задача-1:\n",
    "# Дан список, заполненный произвольными целыми числами, получите новый список,\n",
    "# элементами которого будут квадратные корни элементов исходного списка,\n",
    "# но только если результаты извлечения корня не имеют десятичной части и\n",
    "# если такой корень вообще можно извлечь\n",
    "# Пример: Дано: [2, -5, 8, 9, -25, 25, 4]   Результат: [3, 5, 2]\n",
    "import math\n",
    "import random\n",
    "\n",
    "lst = []\n",
    "lsta = []\n",
    "i = 0 \n",
    "\n",
    "for i in range(0 , 10):\n",
    "    lst.append(random.randint(-50, 50))\n",
    "print(lst)"
   ]
  },
  {
   "cell_type": "code",
   "execution_count": 40,
   "metadata": {},
   "outputs": [
    {
     "name": "stdout",
     "output_type": "stream",
     "text": [
      "[6, 1, 5]\n"
     ]
    }
   ],
   "source": [
    "for item in lst:\n",
    "    if item >= 0 and (item ** (1/2)) % 1 == 0:\n",
    "        lsta.append(int(item ** (1/2)))\n",
    "print(lsta)"
   ]
  },
  {
   "cell_type": "code",
   "execution_count": null,
   "metadata": {},
   "outputs": [],
   "source": []
  },
  {
   "cell_type": "code",
   "execution_count": null,
   "metadata": {},
   "outputs": [],
   "source": []
  }
 ],
 "metadata": {
  "kernelspec": {
   "display_name": "Python 3",
   "language": "python",
   "name": "python3"
  },
  "language_info": {
   "codemirror_mode": {
    "name": "ipython",
    "version": 3
   },
   "file_extension": ".py",
   "mimetype": "text/x-python",
   "name": "python",
   "nbconvert_exporter": "python",
   "pygments_lexer": "ipython3",
   "version": "3.6.5"
  }
 },
 "nbformat": 4,
 "nbformat_minor": 2
}
