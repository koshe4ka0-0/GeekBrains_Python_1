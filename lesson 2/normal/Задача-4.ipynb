{
 "cells": [
  {
   "cell_type": "code",
   "execution_count": 73,
   "metadata": {},
   "outputs": [
    {
     "name": "stdout",
     "output_type": "stream",
     "text": [
      "[-4, -1, -3, -3, -6, 2]\n"
     ]
    }
   ],
   "source": [
    "# Задача-4: Дан список, заполненный произвольными целыми числами.\n",
    "# Получите новый список, элементами которого будут: \n",
    "# а) неповторяющиеся элементы исходного списка:\n",
    "# например, lst = [1, 2, 4, 5, 6, 2, 5, 2], нужно получить lst2 = [1, 2, 4, 5, 6]\n",
    "# б) элементы исходного списка, которые не имеют повторений:\n",
    "# например, lst = [1 , 2, 4, 5, 6, 2, 5, 2], нужно получить lst2 = [1, 4, 6]\n",
    "\n",
    "import random\n",
    "\n",
    "lst = []\n",
    "lsta = []\n",
    "lstb = []\n",
    "\n",
    "for i in range(0 , 6):\n",
    "    lst.append(random.randint(-6, 6))\n",
    "print(lst)"
   ]
  },
  {
   "cell_type": "code",
   "execution_count": 74,
   "metadata": {},
   "outputs": [
    {
     "name": "stdout",
     "output_type": "stream",
     "text": [
      "[-4, -1, -6, 2]\n",
      "[-4, -1, -3, -6, 2]\n"
     ]
    }
   ],
   "source": [
    "for itm in lst:\n",
    "    quantity = lst.count(itm)\n",
    "    if quantity == 1:\n",
    "        lsta.append(itm) \n",
    "        \n",
    "for item in lst:\n",
    "    quantity = lst.count(item)\n",
    "    if quantity > 1:\n",
    "        lstb = lst\n",
    "        lstb.remove(item)\n",
    "\n",
    "print(lsta)\n",
    "print(lstb)"
   ]
  },
  {
   "cell_type": "code",
   "execution_count": null,
   "metadata": {},
   "outputs": [],
   "source": []
  },
  {
   "cell_type": "code",
   "execution_count": null,
   "metadata": {},
   "outputs": [],
   "source": []
  },
  {
   "cell_type": "code",
   "execution_count": null,
   "metadata": {},
   "outputs": [],
   "source": []
  }
 ],
 "metadata": {
  "kernelspec": {
   "display_name": "Python 3",
   "language": "python",
   "name": "python3"
  },
  "language_info": {
   "codemirror_mode": {
    "name": "ipython",
    "version": 3
   },
   "file_extension": ".py",
   "mimetype": "text/x-python",
   "name": "python",
   "nbconvert_exporter": "python",
   "pygments_lexer": "ipython3",
   "version": "3.6.5"
  }
 },
 "nbformat": 4,
 "nbformat_minor": 2
}
