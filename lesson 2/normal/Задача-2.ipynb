{
 "cells": [
  {
   "cell_type": "code",
   "execution_count": 47,
   "metadata": {},
   "outputs": [
    {
     "name": "stdout",
     "output_type": "stream",
     "text": [
      "Введите дату в формате dd.mm.yyyy: 08.12.2001\n",
      "['08', '12', '2001']\n"
     ]
    }
   ],
   "source": [
    "# Задача-2: Дана дата в формате dd.mm.yyyy, например: 02.11.2013.\n",
    "# Ваша задача вывести дату в текстовом виде, например: второе ноября 2013 года.\n",
    "# Склонением пренебречь (2000 года, 2010 года)\n",
    "\n",
    "data = input('Введите дату в формате dd.mm.yyyy: ')\n",
    "data = data.split('.')\n",
    "print(data)\n"
   ]
  },
  {
   "cell_type": "code",
   "execution_count": 48,
   "metadata": {},
   "outputs": [
    {
     "name": "stdout",
     "output_type": "stream",
     "text": [
      "Восьмое декабря 2001 года\n"
     ]
    }
   ],
   "source": [
    "day = {'01':'Первое','02':'Второе', '03':'Третье', '04':'Четвертое','05':'Пятое','06':'Шестое', '07':'Седьмое', '08':'Восьмое','09':'Девятое','10':'Десятое', '11':'Одиннадцатое','12': 'Двенадцатое','13':'Тринадцатое','14':'Четырнадцатое', '15':'Пятнадцатое', '16':'Шестанадцатое','17':'Семнадцатое','18':'Восемнадцатое', '19':'Девятнадцатое', '20':'Двацатое','21':'Двадцать первое','22':'Двадцать второе', '23' :'Двадцать третье','24': 'Двадцать четвертое','25':'Двадцать пятое','26':'Двадцать шестое', '27':'Двадцать седьмое', '28':'Двадцать восьмое','29':'Двадцать девятое','30':'Тридцатое', '31':'Тридцать первое'}\n",
    "month = {'01':'января', '02':'февраля', '03': 'марта', '04':'апреля', '05':'мая', '06':'июня', '0':'июля', '08':'августа', '09':'сентября', '10':'октября', '11':'ноября', '12':'декабря'}\n",
    "\n",
    "for key, itm in day.items():\n",
    "    if data[0] == key:\n",
    "        day_finite = itm\n",
    "\n",
    "for key, itm in month.items():\n",
    "    if data[1] == key:\n",
    "        month_finite = itm\n",
    "print(day_finite, month_finite, data[2], 'года')\n"
   ]
  },
  {
   "cell_type": "code",
   "execution_count": null,
   "metadata": {},
   "outputs": [],
   "source": []
  }
 ],
 "metadata": {
  "kernelspec": {
   "display_name": "Python 3",
   "language": "python",
   "name": "python3"
  },
  "language_info": {
   "codemirror_mode": {
    "name": "ipython",
    "version": 3
   },
   "file_extension": ".py",
   "mimetype": "text/x-python",
   "name": "python",
   "nbconvert_exporter": "python",
   "pygments_lexer": "ipython3",
   "version": "3.6.5"
  }
 },
 "nbformat": 4,
 "nbformat_minor": 2
}
