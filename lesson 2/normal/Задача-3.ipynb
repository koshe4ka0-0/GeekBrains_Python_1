{
 "cells": [
  {
   "cell_type": "code",
   "execution_count": 4,
   "metadata": {},
   "outputs": [
    {
     "name": "stdout",
     "output_type": "stream",
     "text": [
      "Введите количество элементов в списке: 10\n",
      "[71, -42, 34, -48, 100, 90, -15, -43, -58, 34]\n"
     ]
    }
   ],
   "source": [
    "# Задача-3: Напишите алгоритм, заполняющий список произвольными целыми числами\n",
    "# в диапазоне от -100 до 100. В списке должно быть n - элементов.\n",
    "# Подсказка:\n",
    "# для получения случайного числа используйте функцию randint() модуля random\n",
    "import random\n",
    "\n",
    "lst = []\n",
    "n = int(input('Введите количество элементов в списке: '))\n",
    "\n",
    "for i in range(0 , n):\n",
    "    lst.append(random.randint(-100, 100))\n",
    "print(lst)"
   ]
  },
  {
   "cell_type": "code",
   "execution_count": null,
   "metadata": {},
   "outputs": [],
   "source": []
  }
 ],
 "metadata": {
  "kernelspec": {
   "display_name": "Python 3",
   "language": "python",
   "name": "python3"
  },
  "language_info": {
   "codemirror_mode": {
    "name": "ipython",
    "version": 3
   },
   "file_extension": ".py",
   "mimetype": "text/x-python",
   "name": "python",
   "nbconvert_exporter": "python",
   "pygments_lexer": "ipython3",
   "version": "3.6.5"
  }
 },
 "nbformat": 4,
 "nbformat_minor": 2
}
