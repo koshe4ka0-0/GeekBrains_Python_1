{
 "cells": [
  {
   "cell_type": "code",
   "execution_count": 81,
   "metadata": {},
   "outputs": [
    {
     "name": "stdout",
     "output_type": "stream",
     "text": [
      "y = -12x + 11111140.2121\n"
     ]
    }
   ],
   "source": [
    "# Задание-1: уравнение прямой вида y = kx + b задано в виде строки.\n",
    "# Определить координату y точки с заданной координатой x.\n",
    "\n",
    "equation = 'y = -12x + 11111140.2121'\n",
    "x = 2.5\n",
    "# вычислите и выведите \n",
    "\n",
    "number = []\n",
    "\n",
    "for char in equation:\n",
    "    if 'x' in item:\n",
    "       a = equation.replace('x', '')\n",
    "print(equation)"
   ]
  },
  {
   "cell_type": "code",
   "execution_count": 82,
   "metadata": {},
   "outputs": [
    {
     "name": "stdout",
     "output_type": "stream",
     "text": [
      "[-12.0, 11111140.212]\n"
     ]
    }
   ],
   "source": [
    "l = len(a)\n",
    "i = 0\n",
    "while i < l:\n",
    "    str_int = ''\n",
    "    char = equation[i]\n",
    "    while '0' <= char <= '9' or char == '.' or char == '-':\n",
    "        str_int += char\n",
    "        i += 1\n",
    "        if i < l:\n",
    "            char = equation[i]\n",
    "        else:\n",
    "            break\n",
    "    i += 1\n",
    "    if str_int != '':\n",
    "        number.append(float(str_int))\n",
    " \n",
    "print(number)"
   ]
  },
  {
   "cell_type": "code",
   "execution_count": 83,
   "metadata": {},
   "outputs": [
    {
     "name": "stdout",
     "output_type": "stream",
     "text": [
      "11111110.212\n"
     ]
    }
   ],
   "source": [
    "y = x * number[0] + number[1]\n",
    "print(y)"
   ]
  },
  {
   "cell_type": "code",
   "execution_count": null,
   "metadata": {},
   "outputs": [],
   "source": []
  },
  {
   "cell_type": "code",
   "execution_count": null,
   "metadata": {},
   "outputs": [],
   "source": []
  },
  {
   "cell_type": "code",
   "execution_count": null,
   "metadata": {},
   "outputs": [],
   "source": []
  }
 ],
 "metadata": {
  "kernelspec": {
   "display_name": "Python 3",
   "language": "python",
   "name": "python3"
  },
  "language_info": {
   "codemirror_mode": {
    "name": "ipython",
    "version": 3
   },
   "file_extension": ".py",
   "mimetype": "text/x-python",
   "name": "python",
   "nbconvert_exporter": "python",
   "pygments_lexer": "ipython3",
   "version": "3.6.5"
  }
 },
 "nbformat": 4,
 "nbformat_minor": 2
}
