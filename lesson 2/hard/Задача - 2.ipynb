{
 "cells": [
  {
   "cell_type": "code",
   "execution_count": 8,
   "metadata": {},
   "outputs": [],
   "source": [
    "# Задание-2: Дата задана в виде строки формата 'dd.mm.yyyy'.\n",
    "# Проверить, корректно ли введена дата.\n",
    "# Условия корректности:\n",
    "# 1. День должен приводиться к целому числу в диапазоне от 1 до 30(31)\n",
    "#  (в зависимости от месяца, февраль не учитываем)\n",
    "# 2. Месяц должен приводиться к целому числу в диапазоне от 1 до 12\n",
    "# 3. Год должен приводиться к целому положительному числу в диапазоне от 1 до 9999\n",
    "# 4. Длина исходной строки для частей должна быть в соответствии с форматом \n",
    "#  (т.е. 2 символа для дня, 2 - для месяца, 4 - для года)\n",
    "\n",
    "# Пример корректной даты\n",
    "# date = '01.11.1985'\n",
    "\n",
    "# # Примеры некорректных дат\n",
    "# date = '01.22.1001'\n",
    "# date = '1.12.1001'\n",
    "# date = '-2.10.3001'\n"
   ]
  },
  {
   "cell_type": "code",
   "execution_count": 9,
   "metadata": {},
   "outputs": [],
   "source": [
    "\n",
    "o = 'ошибка в вводе даты'"
   ]
  },
  {
   "cell_type": "code",
   "execution_count": 10,
   "metadata": {},
   "outputs": [
    {
     "name": "stdout",
     "output_type": "stream",
     "text": [
      "Введите дату в формате dd.mm.yyyy: 1.20.35\n",
      "['1', '20', '35']\n",
      "ошибка в вводе даты\n",
      "Введите дату в формате dd.mm.yyyy: 08.12.2001\n",
      "['08', '12', '2001']\n",
      "08.12.2001\n"
     ]
    }
   ],
   "source": [
    "month = {'01': '31', '02':'28', '03':'31', '04':'30', '05':'31', '06':'30', '07':'31', '08':'31', '09' :'30', '10':'31', '11':'30', '12': '31'}\n",
    "while o == 'ошибка в вводе даты':\n",
    "    data = input('Введите дату в формате dd.mm.yyyy: ')\n",
    "    data = data.split('.')\n",
    "    print(data)\n",
    "    for key, itm in month.items():\n",
    "        if key == data[1]:\n",
    "            if (data[0].isdecimal()) and (int(data[0]) <= int(itm)) and (1 <= int(data[1])<= 12) and (data[1].isdecimal()) and (data[2].isdecimal()) and (1 <= int(data[1]) <= 9999) and (len(data[0]) == 2) and (len(data[1]) == 2) and (len(data[2]) == 4):\n",
    "                o = '.'.join(data)\n",
    "            else:\n",
    "                o = 'ошибка в вводе даты'\n",
    "    print(o)"
   ]
  },
  {
   "cell_type": "code",
   "execution_count": null,
   "metadata": {},
   "outputs": [],
   "source": []
  },
  {
   "cell_type": "code",
   "execution_count": null,
   "metadata": {},
   "outputs": [],
   "source": [
    "\n"
   ]
  },
  {
   "cell_type": "code",
   "execution_count": null,
   "metadata": {},
   "outputs": [],
   "source": []
  },
  {
   "cell_type": "code",
   "execution_count": null,
   "metadata": {},
   "outputs": [],
   "source": []
  },
  {
   "cell_type": "code",
   "execution_count": null,
   "metadata": {},
   "outputs": [],
   "source": []
  },
  {
   "cell_type": "code",
   "execution_count": null,
   "metadata": {},
   "outputs": [],
   "source": []
  }
 ],
 "metadata": {
  "kernelspec": {
   "display_name": "Python 3",
   "language": "python",
   "name": "python3"
  },
  "language_info": {
   "codemirror_mode": {
    "name": "ipython",
    "version": 3
   },
   "file_extension": ".py",
   "mimetype": "text/x-python",
   "name": "python",
   "nbconvert_exporter": "python",
   "pygments_lexer": "ipython3",
   "version": "3.6.5"
  }
 },
 "nbformat": 4,
 "nbformat_minor": 2
}
