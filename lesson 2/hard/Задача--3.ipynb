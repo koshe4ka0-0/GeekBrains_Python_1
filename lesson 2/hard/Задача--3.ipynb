{
 "cells": [
  {
   "cell_type": "code",
   "execution_count": 3,
   "metadata": {},
   "outputs": [
    {
     "name": "stdout",
     "output_type": "stream",
     "text": [
      "Введите номер: 76\n",
      "1 1 1 1\n",
      "2 2 2 3\n",
      "3 3 6 6\n",
      "4 4 15 10\n",
      "5 5 31 15\n",
      "6 6 56 21\n",
      "Комната находится на 19 этаже и она слева : 3\n"
     ]
    }
   ],
   "source": [
    "width = 0\n",
    "hight = 0\n",
    "begin = 1\n",
    "number = int(input('Введите номер: '))\n",
    "i = 1\n",
    "etage = 0\n",
    "\n",
    "while (width*hight + begin) < number:\n",
    "            begin += width*hight\n",
    "            width += 1\n",
    "            hight += 1\n",
    "            etage += hight\n",
    "            print(width, hight, begin, etage)\n",
    "\n",
    "etage = etage - hight + 1\n",
    "while number != begin:\n",
    "    begin += 1\n",
    "    i += 1\n",
    "    if i > width:\n",
    "        i %= width\n",
    "        etage += 1\n",
    "\n",
    "\n",
    "print('Комната находится на', etage, 'этаже', 'и она слева :', i)"
   ]
  },
  {
   "cell_type": "code",
   "execution_count": null,
   "metadata": {},
   "outputs": [],
   "source": []
  },
  {
   "cell_type": "code",
   "execution_count": null,
   "metadata": {},
   "outputs": [],
   "source": []
  }
 ],
 "metadata": {
  "kernelspec": {
   "display_name": "Python 3",
   "language": "python",
   "name": "python3"
  },
  "language_info": {
   "codemirror_mode": {
    "name": "ipython",
    "version": 3
   },
   "file_extension": ".py",
   "mimetype": "text/x-python",
   "name": "python",
   "nbconvert_exporter": "python",
   "pygments_lexer": "ipython3",
   "version": "3.6.5"
  }
 },
 "nbformat": 4,
 "nbformat_minor": 2
}
