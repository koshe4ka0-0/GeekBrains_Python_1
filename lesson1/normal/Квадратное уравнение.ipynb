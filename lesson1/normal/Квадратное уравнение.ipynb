{
 "cells": [
  {
   "cell_type": "code",
   "execution_count": 8,
   "metadata": {},
   "outputs": [
    {
     "name": "stdout",
     "output_type": "stream",
     "text": [
      " Введите коэфицент а уранения вида ax² + bx + c = 0 : 16\n",
      " Введите коэфицент b уранения вида ax² + bx + c = 0 : 145\n",
      " Введите коэфицент c уранения вида ax² + bx + c = 0 : 9\n"
     ]
    }
   ],
   "source": [
    "__author__ = 'Свирова Валерия'\n",
    "\n",
    "# Задача-3: Напишите программу, вычисляющую корни квадратного уравнения вида\n",
    "# ax² + bx + c = 0.\n",
    "# Коэффициенты уравнения вводятся пользователем.\n",
    "# Для вычисления квадратного корня воспользуйтесь функцией sqrt() модуля math:\n",
    "# import math\n",
    "# math.sqrt(4) - вычисляет корень числа 4\n",
    "import math\n",
    "\n",
    "a = float(input(\" Введите коэфицент а уранения вида ax² + bx + c = 0 : \"))\n",
    "b = float(input(\" Введите коэфицент b уранения вида ax² + bx + c = 0 : \"))\n",
    "c = float(input(\" Введите коэфицент c уранения вида ax² + bx + c = 0 : \"))"
   ]
  },
  {
   "cell_type": "code",
   "execution_count": 9,
   "metadata": {},
   "outputs": [
    {
     "name": "stdout",
     "output_type": "stream",
     "text": [
      " Корни уравнения:  -0.0625 -9.0\n"
     ]
    }
   ],
   "source": [
    "d = b**2 - 4 * a * c\n",
    "\n",
    "if d > 0:\n",
    "    x1 = (-b + math.sqrt(d))/2/a\n",
    "    x2 = (-b - math.sqrt(d))/2/a\n",
    "    print(\" Корни уравнения: \", x1, x2)\n",
    "elif d == 0:\n",
    "    x1 = -b/2/a\n",
    "    print(\" Корень уранения:\", x1)\n",
    "else:\n",
    "    print('Нет корней')\n"
   ]
  },
  {
   "cell_type": "code",
   "execution_count": null,
   "metadata": {},
   "outputs": [],
   "source": []
  }
 ],
 "metadata": {
  "kernelspec": {
   "display_name": "Python 3",
   "language": "python",
   "name": "python3"
  },
  "language_info": {
   "codemirror_mode": {
    "name": "ipython",
    "version": 3
   },
   "file_extension": ".py",
   "mimetype": "text/x-python",
   "name": "python",
   "nbconvert_exporter": "python",
   "pygments_lexer": "ipython3",
   "version": "3.7.0"
  }
 },
 "nbformat": 4,
 "nbformat_minor": 2
}
