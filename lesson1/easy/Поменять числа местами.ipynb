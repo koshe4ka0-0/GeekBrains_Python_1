{
 "cells": [
  {
   "cell_type": "code",
   "execution_count": 4,
   "metadata": {},
   "outputs": [
    {
     "name": "stdout",
     "output_type": "stream",
     "text": [
      " Введите первое число: 1234\n",
      "Введите второе число: 4321\n",
      "a =  4321\n",
      "b =  1234\n"
     ]
    }
   ],
   "source": [
    "__author__ = 'Свирова Валерия'\n",
    "\n",
    "# Задача-2: Исходные значения двух переменных запросить у пользователя.\n",
    "# Поменять значения переменных местами. Вывести новые значения на экран.\n",
    "# Подсказка:\n",
    "# * постарайтесь сделать решение через дополнительную переменную \n",
    "#   или через арифметические действия\n",
    "# Не нужно решать задачу так:\n",
    "# print(\"a = \", b, \"b = \", a) - это неправильное решение!\n",
    "\n",
    "a = input(\" Введите первое число: \")\n",
    "b = input(\"Введите второе число: \")\n",
    "\n",
    "c = b\n",
    "\n",
    "b = a\n",
    "\n",
    "a = c\n",
    "\n",
    "print(\"a = \", a)\n",
    "print(\"b = \", b)"
   ]
  },
  {
   "cell_type": "code",
   "execution_count": null,
   "metadata": {},
   "outputs": [],
   "source": []
  },
  {
   "cell_type": "code",
   "execution_count": null,
   "metadata": {},
   "outputs": [],
   "source": []
  },
  {
   "cell_type": "code",
   "execution_count": null,
   "metadata": {},
   "outputs": [],
   "source": []
  }
 ],
 "metadata": {
  "kernelspec": {
   "display_name": "Python 3",
   "language": "python",
   "name": "python3"
  },
  "language_info": {
   "codemirror_mode": {
    "name": "ipython",
    "version": 3
   },
   "file_extension": ".py",
   "mimetype": "text/x-python",
   "name": "python",
   "nbconvert_exporter": "python",
   "pygments_lexer": "ipython3",
   "version": "3.7.0"
  }
 },
 "nbformat": 4,
 "nbformat_minor": 2
}
